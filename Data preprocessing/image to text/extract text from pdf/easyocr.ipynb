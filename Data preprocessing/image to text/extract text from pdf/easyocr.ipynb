{
 "cells": [
  {
   "cell_type": "code",
   "execution_count": 6,
   "metadata": {},
   "outputs": [],
   "source": [
    "import easyocr\n",
    "import PyPDF2"
   ]
  },
  {
   "cell_type": "code",
   "execution_count": 20,
   "metadata": {},
   "outputs": [],
   "source": [
    "pdf_path = 'sample_pdfs/easy_sample.pdf'"
   ]
  },
  {
   "cell_type": "code",
   "execution_count": 21,
   "metadata": {},
   "outputs": [],
   "source": [
    "def extract_text_from_pdf(pdf_path):\n",
    "    with open(pdf_path, 'rb') as file:\n",
    "        reader = PyPDF2.PdfReader(file)\n",
    "        text = ''\n",
    "        for page_num in range(len(reader.pages)):\n",
    "            page = reader.pages[page_num]\n",
    "            text += page.extract_text()\n",
    "    return text\n",
    "\n",
    "def extract_bengali_text(text):\n",
    "    reader = easyocr.Reader(['bn'])\n",
    "    result = reader.readtext(text)\n",
    "    extracted_text = '\\n'.join([bbox[1] for bbox in result])\n",
    "    return extracted_text\n"
   ]
  },
  {
   "cell_type": "code",
   "execution_count": 22,
   "metadata": {},
   "outputs": [
    {
     "name": "stderr",
     "output_type": "stream",
     "text": [
      "Neither CUDA nor MPS are available - defaulting to CPU. Note: This module is much faster with a GPU.\n"
     ]
    },
    {
     "name": "stderr",
     "output_type": "stream",
     "text": [
      "[ WARN:0@1079.426] global loadsave.cpp:248 findDecoder imread_('  বি\u0002জয়বি\u0005\u0002সে\u0007র শুসে\n",
      "লা\fসে\u0005সে\u000fরমা\fনু\u0012সে\u0013র জনু\u0014এইবি\u0005নুটি অত্য\u0014ন্তগৌ\u001c\u001dরসে\u0002রবি\u0005নু\n",
      "  বি\u0002জয়বি\u0005\u0002সে\u0007র শুসে\n",
      "লা\fসে\u0005সে\u000fরমা\fনু\u0012সে\u0013র জনু\u0014এইবি\u0005নুটি অত্য\u0014ন্তগৌ\u001c\u001dরসে\u0002রবি\u0005নু\n",
      "  বি\u0002জয়বি\u0005\u0002সে\u0007র শুসে\n",
      "লা\fসে\u0005সে\u000fরমা\fনু\u0012সে\u0013র জনু\u0014এইবি\u0005নুটি অত্য\u0014ন্তগৌ\u001c\u001dরসে\u0002রবি\u0005নু\n",
      "  বি\u0002জয়বি\u0005\u0002সে\u0007র শুসে\n",
      "লা\fসে\u0005সে\u000fরমা\fনু\u0012সে\u0013র জনু\u0014এইবি\u0005নুটি অত্য\u0014ন্তগৌ\u001c\u001dরসে\u0002রবি\u0005নু\n",
      "  বি\u0002জয়বি\u0005\u0002সে\u0007র শুসে\n",
      "লা\fসে\u0005সে\u000fরমা\fনু\u0012সে\u0013র জনু\u0014এইবি\u0005নুটি অত্য\u0014ন্তগৌ\u001c\u001dরসে\u0002রবি\u0005নু\n",
      "  বি\u0002জয়বি\u0005\u0002সে\u0007র শুসে\n",
      "লা\fসে\u0005সে\u000fরমা\fনু\u0012সে\u0013র জনু\u0014এইবি\u0005নুটি অত্য\u0014ন্তগৌ\u001c\u001dরসে\u0002রবি\u0005নু'): can't open/read file: check file path/integrity\n"
     ]
    },
    {
     "ename": "FileNotFoundError",
     "evalue": "No such file: '/home/ashwin/Desktop/Data-Collection/data preprocessing/image to text/extract text from pdf/  বি\u0002জয়বি\u0005\u0002সে\u0007র শুসে\nচ্ছা\f!        । \u0002\f\rলা\fসে\u0005সে\u000fরমা\fনু\u0012সে\u0013র জনু\u0014এইবি\u0005নুটি অত্য\u0014ন্তগৌ\u001c\u001dরসে\u0002রবি\u0005নু\n  বি\u0002জয়বি\u0005\u0002সে\u0007র শুসে\nচ্ছা\f!        । \u0002\f\rলা\fসে\u0005সে\u000fরমা\fনু\u0012সে\u0013র জনু\u0014এইবি\u0005নুটি অত্য\u0014ন্তগৌ\u001c\u001dরসে\u0002রবি\u0005নু\n  বি\u0002জয়বি\u0005\u0002সে\u0007র শুসে\nচ্ছা\f!        । \u0002\f\rলা\fসে\u0005সে\u000fরমা\fনু\u0012সে\u0013র জনু\u0014এইবি\u0005নুটি অত্য\u0014ন্তগৌ\u001c\u001dরসে\u0002রবি\u0005নু\n  বি\u0002জয়বি\u0005\u0002সে\u0007র শুসে\nচ্ছা\f!        । \u0002\f\rলা\fসে\u0005সে\u000fরমা\fনু\u0012সে\u0013র জনু\u0014এইবি\u0005নুটি অত্য\u0014ন্তগৌ\u001c\u001dরসে\u0002রবি\u0005নু\n  বি\u0002জয়বি\u0005\u0002সে\u0007র শুসে\nচ্ছা\f!        । \u0002\f\rলা\fসে\u0005সে\u000fরমা\fনু\u0012সে\u0013র জনু\u0014এইবি\u0005নুটি অত্য\u0014ন্তগৌ\u001c\u001dরসে\u0002রবি\u0005নু\n  বি\u0002জয়বি\u0005\u0002সে\u0007র শুসে\nচ্ছা\f!        । \u0002\f\rলা\fসে\u0005সে\u000fরমা\fনু\u0012সে\u0013র জনু\u0014এইবি\u0005নুটি অত্য\u0014ন্তগৌ\u001c\u001dরসে\u0002রবি\u0005নু'",
     "output_type": "error",
     "traceback": [
      "\u001b[0;31m---------------------------------------------------------------------------\u001b[0m",
      "\u001b[0;31mFileNotFoundError\u001b[0m                         Traceback (most recent call last)",
      "Cell \u001b[0;32mIn[22], line 2\u001b[0m\n\u001b[1;32m      1\u001b[0m pdf_text \u001b[38;5;241m=\u001b[39m extract_text_from_pdf(pdf_path)\n\u001b[0;32m----> 2\u001b[0m bengali_text \u001b[38;5;241m=\u001b[39m \u001b[43mextract_bengali_text\u001b[49m\u001b[43m(\u001b[49m\u001b[43mpdf_text\u001b[49m\u001b[43m)\u001b[49m\n\u001b[1;32m      3\u001b[0m \u001b[38;5;28mprint\u001b[39m(bengali_text)\n",
      "Cell \u001b[0;32mIn[21], line 12\u001b[0m, in \u001b[0;36mextract_bengali_text\u001b[0;34m(text)\u001b[0m\n\u001b[1;32m     10\u001b[0m \u001b[38;5;28;01mdef\u001b[39;00m \u001b[38;5;21mextract_bengali_text\u001b[39m(text):\n\u001b[1;32m     11\u001b[0m     reader \u001b[38;5;241m=\u001b[39m easyocr\u001b[38;5;241m.\u001b[39mReader([\u001b[38;5;124m'\u001b[39m\u001b[38;5;124mbn\u001b[39m\u001b[38;5;124m'\u001b[39m])\n\u001b[0;32m---> 12\u001b[0m     result \u001b[38;5;241m=\u001b[39m \u001b[43mreader\u001b[49m\u001b[38;5;241;43m.\u001b[39;49m\u001b[43mreadtext\u001b[49m\u001b[43m(\u001b[49m\u001b[43mtext\u001b[49m\u001b[43m)\u001b[49m\n\u001b[1;32m     13\u001b[0m     extracted_text \u001b[38;5;241m=\u001b[39m \u001b[38;5;124m'\u001b[39m\u001b[38;5;130;01m\\n\u001b[39;00m\u001b[38;5;124m'\u001b[39m\u001b[38;5;241m.\u001b[39mjoin([bbox[\u001b[38;5;241m1\u001b[39m] \u001b[38;5;28;01mfor\u001b[39;00m bbox \u001b[38;5;129;01min\u001b[39;00m result])\n\u001b[1;32m     14\u001b[0m     \u001b[38;5;28;01mreturn\u001b[39;00m extracted_text\n",
      "File \u001b[0;32m~/Desktop/Data-Collection/data preprocessing/image to text/.venv/lib/python3.11/site-packages/easyocr/easyocr.py:454\u001b[0m, in \u001b[0;36mReader.readtext\u001b[0;34m(self, image, decoder, beamWidth, batch_size, workers, allowlist, blocklist, detail, rotation_info, paragraph, min_size, contrast_ths, adjust_contrast, filter_ths, text_threshold, low_text, link_threshold, canvas_size, mag_ratio, slope_ths, ycenter_ths, height_ths, width_ths, y_ths, x_ths, add_margin, threshold, bbox_min_score, bbox_min_size, max_candidates, output_format)\u001b[0m\n\u001b[1;32m    440\u001b[0m \u001b[38;5;28;01mdef\u001b[39;00m \u001b[38;5;21mreadtext\u001b[39m(\u001b[38;5;28mself\u001b[39m, image, decoder \u001b[38;5;241m=\u001b[39m \u001b[38;5;124m'\u001b[39m\u001b[38;5;124mgreedy\u001b[39m\u001b[38;5;124m'\u001b[39m, beamWidth\u001b[38;5;241m=\u001b[39m \u001b[38;5;241m5\u001b[39m, batch_size \u001b[38;5;241m=\u001b[39m \u001b[38;5;241m1\u001b[39m,\\\n\u001b[1;32m    441\u001b[0m              workers \u001b[38;5;241m=\u001b[39m \u001b[38;5;241m0\u001b[39m, allowlist \u001b[38;5;241m=\u001b[39m \u001b[38;5;28;01mNone\u001b[39;00m, blocklist \u001b[38;5;241m=\u001b[39m \u001b[38;5;28;01mNone\u001b[39;00m, detail \u001b[38;5;241m=\u001b[39m \u001b[38;5;241m1\u001b[39m,\\\n\u001b[1;32m    442\u001b[0m              rotation_info \u001b[38;5;241m=\u001b[39m \u001b[38;5;28;01mNone\u001b[39;00m, paragraph \u001b[38;5;241m=\u001b[39m \u001b[38;5;28;01mFalse\u001b[39;00m, min_size \u001b[38;5;241m=\u001b[39m \u001b[38;5;241m20\u001b[39m,\\\n\u001b[0;32m   (...)\u001b[0m\n\u001b[1;32m    448\u001b[0m              threshold \u001b[38;5;241m=\u001b[39m \u001b[38;5;241m0.2\u001b[39m, bbox_min_score \u001b[38;5;241m=\u001b[39m \u001b[38;5;241m0.2\u001b[39m, bbox_min_size \u001b[38;5;241m=\u001b[39m \u001b[38;5;241m3\u001b[39m, max_candidates \u001b[38;5;241m=\u001b[39m \u001b[38;5;241m0\u001b[39m,\n\u001b[1;32m    449\u001b[0m              output_format\u001b[38;5;241m=\u001b[39m\u001b[38;5;124m'\u001b[39m\u001b[38;5;124mstandard\u001b[39m\u001b[38;5;124m'\u001b[39m):\n\u001b[1;32m    450\u001b[0m \u001b[38;5;250m    \u001b[39m\u001b[38;5;124;03m'''\u001b[39;00m\n\u001b[1;32m    451\u001b[0m \u001b[38;5;124;03m    Parameters:\u001b[39;00m\n\u001b[1;32m    452\u001b[0m \u001b[38;5;124;03m    image: file path or numpy-array or a byte stream object\u001b[39;00m\n\u001b[1;32m    453\u001b[0m \u001b[38;5;124;03m    '''\u001b[39;00m\n\u001b[0;32m--> 454\u001b[0m     img, img_cv_grey \u001b[38;5;241m=\u001b[39m \u001b[43mreformat_input\u001b[49m\u001b[43m(\u001b[49m\u001b[43mimage\u001b[49m\u001b[43m)\u001b[49m\n\u001b[1;32m    456\u001b[0m     horizontal_list, free_list \u001b[38;5;241m=\u001b[39m \u001b[38;5;28mself\u001b[39m\u001b[38;5;241m.\u001b[39mdetect(img, \n\u001b[1;32m    457\u001b[0m                                              min_size \u001b[38;5;241m=\u001b[39m min_size, text_threshold \u001b[38;5;241m=\u001b[39m text_threshold,\\\n\u001b[1;32m    458\u001b[0m                                              low_text \u001b[38;5;241m=\u001b[39m low_text, link_threshold \u001b[38;5;241m=\u001b[39m link_threshold,\\\n\u001b[0;32m   (...)\u001b[0m\n\u001b[1;32m    464\u001b[0m                                              bbox_min_size \u001b[38;5;241m=\u001b[39m bbox_min_size, max_candidates \u001b[38;5;241m=\u001b[39m max_candidates\n\u001b[1;32m    465\u001b[0m                                              )\n\u001b[1;32m    466\u001b[0m     \u001b[38;5;66;03m# get the 1st result from hor & free list as self.detect returns a list of depth 3\u001b[39;00m\n",
      "File \u001b[0;32m~/Desktop/Data-Collection/data preprocessing/image to text/.venv/lib/python3.11/site-packages/easyocr/utils.py:741\u001b[0m, in \u001b[0;36mreformat_input\u001b[0;34m(image)\u001b[0m\n\u001b[1;32m    739\u001b[0m         img_cv_grey \u001b[38;5;241m=\u001b[39m cv2\u001b[38;5;241m.\u001b[39mimread(image, cv2\u001b[38;5;241m.\u001b[39mIMREAD_GRAYSCALE)\n\u001b[1;32m    740\u001b[0m         image \u001b[38;5;241m=\u001b[39m os\u001b[38;5;241m.\u001b[39mpath\u001b[38;5;241m.\u001b[39mexpanduser(image)\n\u001b[0;32m--> 741\u001b[0m     img \u001b[38;5;241m=\u001b[39m \u001b[43mloadImage\u001b[49m\u001b[43m(\u001b[49m\u001b[43mimage\u001b[49m\u001b[43m)\u001b[49m  \u001b[38;5;66;03m# can accept URL\u001b[39;00m\n\u001b[1;32m    742\u001b[0m \u001b[38;5;28;01melif\u001b[39;00m \u001b[38;5;28mtype\u001b[39m(image) \u001b[38;5;241m==\u001b[39m \u001b[38;5;28mbytes\u001b[39m:\n\u001b[1;32m    743\u001b[0m     nparr \u001b[38;5;241m=\u001b[39m np\u001b[38;5;241m.\u001b[39mfrombuffer(image, np\u001b[38;5;241m.\u001b[39muint8)\n",
      "File \u001b[0;32m~/Desktop/Data-Collection/data preprocessing/image to text/.venv/lib/python3.11/site-packages/easyocr/imgproc.py:12\u001b[0m, in \u001b[0;36mloadImage\u001b[0;34m(img_file)\u001b[0m\n\u001b[1;32m     11\u001b[0m \u001b[38;5;28;01mdef\u001b[39;00m \u001b[38;5;21mloadImage\u001b[39m(img_file):\n\u001b[0;32m---> 12\u001b[0m     img \u001b[38;5;241m=\u001b[39m \u001b[43mio\u001b[49m\u001b[38;5;241;43m.\u001b[39;49m\u001b[43mimread\u001b[49m\u001b[43m(\u001b[49m\u001b[43mimg_file\u001b[49m\u001b[43m)\u001b[49m           \u001b[38;5;66;03m# RGB order\u001b[39;00m\n\u001b[1;32m     13\u001b[0m     \u001b[38;5;28;01mif\u001b[39;00m img\u001b[38;5;241m.\u001b[39mshape[\u001b[38;5;241m0\u001b[39m] \u001b[38;5;241m==\u001b[39m \u001b[38;5;241m2\u001b[39m: img \u001b[38;5;241m=\u001b[39m img[\u001b[38;5;241m0\u001b[39m]\n\u001b[1;32m     14\u001b[0m     \u001b[38;5;28;01mif\u001b[39;00m \u001b[38;5;28mlen\u001b[39m(img\u001b[38;5;241m.\u001b[39mshape) \u001b[38;5;241m==\u001b[39m \u001b[38;5;241m2\u001b[39m : img \u001b[38;5;241m=\u001b[39m cv2\u001b[38;5;241m.\u001b[39mcvtColor(img, cv2\u001b[38;5;241m.\u001b[39mCOLOR_GRAY2RGB)\n",
      "File \u001b[0;32m~/Desktop/Data-Collection/data preprocessing/image to text/.venv/lib/python3.11/site-packages/skimage/io/_io.py:53\u001b[0m, in \u001b[0;36mimread\u001b[0;34m(fname, as_gray, plugin, **plugin_args)\u001b[0m\n\u001b[1;32m     50\u001b[0m         plugin \u001b[38;5;241m=\u001b[39m \u001b[38;5;124m'\u001b[39m\u001b[38;5;124mtifffile\u001b[39m\u001b[38;5;124m'\u001b[39m\n\u001b[1;32m     52\u001b[0m \u001b[38;5;28;01mwith\u001b[39;00m file_or_url_context(fname) \u001b[38;5;28;01mas\u001b[39;00m fname:\n\u001b[0;32m---> 53\u001b[0m     img \u001b[38;5;241m=\u001b[39m \u001b[43mcall_plugin\u001b[49m\u001b[43m(\u001b[49m\u001b[38;5;124;43m'\u001b[39;49m\u001b[38;5;124;43mimread\u001b[39;49m\u001b[38;5;124;43m'\u001b[39;49m\u001b[43m,\u001b[49m\u001b[43m \u001b[49m\u001b[43mfname\u001b[49m\u001b[43m,\u001b[49m\u001b[43m \u001b[49m\u001b[43mplugin\u001b[49m\u001b[38;5;241;43m=\u001b[39;49m\u001b[43mplugin\u001b[49m\u001b[43m,\u001b[49m\u001b[43m \u001b[49m\u001b[38;5;241;43m*\u001b[39;49m\u001b[38;5;241;43m*\u001b[39;49m\u001b[43mplugin_args\u001b[49m\u001b[43m)\u001b[49m\n\u001b[1;32m     55\u001b[0m \u001b[38;5;28;01mif\u001b[39;00m \u001b[38;5;129;01mnot\u001b[39;00m \u001b[38;5;28mhasattr\u001b[39m(img, \u001b[38;5;124m'\u001b[39m\u001b[38;5;124mndim\u001b[39m\u001b[38;5;124m'\u001b[39m):\n\u001b[1;32m     56\u001b[0m     \u001b[38;5;28;01mreturn\u001b[39;00m img\n",
      "File \u001b[0;32m~/Desktop/Data-Collection/data preprocessing/image to text/.venv/lib/python3.11/site-packages/skimage/io/manage_plugins.py:205\u001b[0m, in \u001b[0;36mcall_plugin\u001b[0;34m(kind, *args, **kwargs)\u001b[0m\n\u001b[1;32m    202\u001b[0m     \u001b[38;5;28;01mexcept\u001b[39;00m \u001b[38;5;167;01mIndexError\u001b[39;00m:\n\u001b[1;32m    203\u001b[0m         \u001b[38;5;28;01mraise\u001b[39;00m \u001b[38;5;167;01mRuntimeError\u001b[39;00m(\u001b[38;5;124mf\u001b[39m\u001b[38;5;124m'\u001b[39m\u001b[38;5;124mCould not find the plugin \u001b[39m\u001b[38;5;124m\"\u001b[39m\u001b[38;5;132;01m{\u001b[39;00mplugin\u001b[38;5;132;01m}\u001b[39;00m\u001b[38;5;124m\"\u001b[39m\u001b[38;5;124m for \u001b[39m\u001b[38;5;132;01m{\u001b[39;00mkind\u001b[38;5;132;01m}\u001b[39;00m\u001b[38;5;124m.\u001b[39m\u001b[38;5;124m'\u001b[39m)\n\u001b[0;32m--> 205\u001b[0m \u001b[38;5;28;01mreturn\u001b[39;00m \u001b[43mfunc\u001b[49m\u001b[43m(\u001b[49m\u001b[38;5;241;43m*\u001b[39;49m\u001b[43margs\u001b[49m\u001b[43m,\u001b[49m\u001b[43m \u001b[49m\u001b[38;5;241;43m*\u001b[39;49m\u001b[38;5;241;43m*\u001b[39;49m\u001b[43mkwargs\u001b[49m\u001b[43m)\u001b[49m\n",
      "File \u001b[0;32m~/Desktop/Data-Collection/data preprocessing/image to text/.venv/lib/python3.11/site-packages/skimage/io/_plugins/imageio_plugin.py:11\u001b[0m, in \u001b[0;36mimread\u001b[0;34m(*args, **kwargs)\u001b[0m\n\u001b[1;32m      9\u001b[0m \u001b[38;5;129m@wraps\u001b[39m(imageio_imread)\n\u001b[1;32m     10\u001b[0m \u001b[38;5;28;01mdef\u001b[39;00m \u001b[38;5;21mimread\u001b[39m(\u001b[38;5;241m*\u001b[39margs, \u001b[38;5;241m*\u001b[39m\u001b[38;5;241m*\u001b[39mkwargs):\n\u001b[0;32m---> 11\u001b[0m     out \u001b[38;5;241m=\u001b[39m np\u001b[38;5;241m.\u001b[39masarray(\u001b[43mimageio_imread\u001b[49m\u001b[43m(\u001b[49m\u001b[38;5;241;43m*\u001b[39;49m\u001b[43margs\u001b[49m\u001b[43m,\u001b[49m\u001b[43m \u001b[49m\u001b[38;5;241;43m*\u001b[39;49m\u001b[38;5;241;43m*\u001b[39;49m\u001b[43mkwargs\u001b[49m\u001b[43m)\u001b[49m)\n\u001b[1;32m     12\u001b[0m     \u001b[38;5;28;01mif\u001b[39;00m \u001b[38;5;129;01mnot\u001b[39;00m out\u001b[38;5;241m.\u001b[39mflags[\u001b[38;5;124m'\u001b[39m\u001b[38;5;124mWRITEABLE\u001b[39m\u001b[38;5;124m'\u001b[39m]:\n\u001b[1;32m     13\u001b[0m         out \u001b[38;5;241m=\u001b[39m out\u001b[38;5;241m.\u001b[39mcopy()\n",
      "File \u001b[0;32m~/Desktop/Data-Collection/data preprocessing/image to text/.venv/lib/python3.11/site-packages/imageio/v3.py:53\u001b[0m, in \u001b[0;36mimread\u001b[0;34m(uri, index, plugin, extension, format_hint, **kwargs)\u001b[0m\n\u001b[1;32m     50\u001b[0m \u001b[38;5;28;01mif\u001b[39;00m index \u001b[38;5;129;01mis\u001b[39;00m \u001b[38;5;129;01mnot\u001b[39;00m \u001b[38;5;28;01mNone\u001b[39;00m:\n\u001b[1;32m     51\u001b[0m     call_kwargs[\u001b[38;5;124m\"\u001b[39m\u001b[38;5;124mindex\u001b[39m\u001b[38;5;124m\"\u001b[39m] \u001b[38;5;241m=\u001b[39m index\n\u001b[0;32m---> 53\u001b[0m \u001b[38;5;28;01mwith\u001b[39;00m \u001b[43mimopen\u001b[49m\u001b[43m(\u001b[49m\u001b[43muri\u001b[49m\u001b[43m,\u001b[49m\u001b[43m \u001b[49m\u001b[38;5;124;43m\"\u001b[39;49m\u001b[38;5;124;43mr\u001b[39;49m\u001b[38;5;124;43m\"\u001b[39;49m\u001b[43m,\u001b[49m\u001b[43m \u001b[49m\u001b[38;5;241;43m*\u001b[39;49m\u001b[38;5;241;43m*\u001b[39;49m\u001b[43mplugin_kwargs\u001b[49m\u001b[43m)\u001b[49m \u001b[38;5;28;01mas\u001b[39;00m img_file:\n\u001b[1;32m     54\u001b[0m     \u001b[38;5;28;01mreturn\u001b[39;00m np\u001b[38;5;241m.\u001b[39masarray(img_file\u001b[38;5;241m.\u001b[39mread(\u001b[38;5;241m*\u001b[39m\u001b[38;5;241m*\u001b[39mcall_kwargs))\n",
      "File \u001b[0;32m~/Desktop/Data-Collection/data preprocessing/image to text/.venv/lib/python3.11/site-packages/imageio/core/imopen.py:113\u001b[0m, in \u001b[0;36mimopen\u001b[0;34m(uri, io_mode, plugin, extension, format_hint, legacy_mode, **kwargs)\u001b[0m\n\u001b[1;32m    111\u001b[0m     request\u001b[38;5;241m.\u001b[39mformat_hint \u001b[38;5;241m=\u001b[39m format_hint\n\u001b[1;32m    112\u001b[0m \u001b[38;5;28;01melse\u001b[39;00m:\n\u001b[0;32m--> 113\u001b[0m     request \u001b[38;5;241m=\u001b[39m \u001b[43mRequest\u001b[49m\u001b[43m(\u001b[49m\u001b[43muri\u001b[49m\u001b[43m,\u001b[49m\u001b[43m \u001b[49m\u001b[43mio_mode\u001b[49m\u001b[43m,\u001b[49m\u001b[43m \u001b[49m\u001b[43mformat_hint\u001b[49m\u001b[38;5;241;43m=\u001b[39;49m\u001b[43mformat_hint\u001b[49m\u001b[43m,\u001b[49m\u001b[43m \u001b[49m\u001b[43mextension\u001b[49m\u001b[38;5;241;43m=\u001b[39;49m\u001b[43mextension\u001b[49m\u001b[43m)\u001b[49m\n\u001b[1;32m    115\u001b[0m source \u001b[38;5;241m=\u001b[39m \u001b[38;5;124m\"\u001b[39m\u001b[38;5;124m<bytes>\u001b[39m\u001b[38;5;124m\"\u001b[39m \u001b[38;5;28;01mif\u001b[39;00m \u001b[38;5;28misinstance\u001b[39m(uri, \u001b[38;5;28mbytes\u001b[39m) \u001b[38;5;28;01melse\u001b[39;00m uri\n\u001b[1;32m    117\u001b[0m \u001b[38;5;66;03m# fast-path based on plugin\u001b[39;00m\n\u001b[1;32m    118\u001b[0m \u001b[38;5;66;03m# (except in legacy mode)\u001b[39;00m\n",
      "File \u001b[0;32m~/Desktop/Data-Collection/data preprocessing/image to text/.venv/lib/python3.11/site-packages/imageio/core/request.py:247\u001b[0m, in \u001b[0;36mRequest.__init__\u001b[0;34m(self, uri, mode, extension, format_hint, **kwargs)\u001b[0m\n\u001b[1;32m    244\u001b[0m     \u001b[38;5;28;01mraise\u001b[39;00m \u001b[38;5;167;01mValueError\u001b[39;00m(\u001b[38;5;124mf\u001b[39m\u001b[38;5;124m\"\u001b[39m\u001b[38;5;124mInvalid Request.Mode: \u001b[39m\u001b[38;5;132;01m{\u001b[39;00mmode\u001b[38;5;132;01m}\u001b[39;00m\u001b[38;5;124m\"\u001b[39m)\n\u001b[1;32m    246\u001b[0m \u001b[38;5;66;03m# Parse what was given\u001b[39;00m\n\u001b[0;32m--> 247\u001b[0m \u001b[38;5;28;43mself\u001b[39;49m\u001b[38;5;241;43m.\u001b[39;49m\u001b[43m_parse_uri\u001b[49m\u001b[43m(\u001b[49m\u001b[43muri\u001b[49m\u001b[43m)\u001b[49m\n\u001b[1;32m    249\u001b[0m \u001b[38;5;66;03m# Set extension\u001b[39;00m\n\u001b[1;32m    250\u001b[0m \u001b[38;5;28;01mif\u001b[39;00m extension \u001b[38;5;129;01mis\u001b[39;00m \u001b[38;5;129;01mnot\u001b[39;00m \u001b[38;5;28;01mNone\u001b[39;00m:\n",
      "File \u001b[0;32m~/Desktop/Data-Collection/data preprocessing/image to text/.venv/lib/python3.11/site-packages/imageio/core/request.py:407\u001b[0m, in \u001b[0;36mRequest._parse_uri\u001b[0;34m(self, uri)\u001b[0m\n\u001b[1;32m    404\u001b[0m \u001b[38;5;28;01mif\u001b[39;00m is_read_request:\n\u001b[1;32m    405\u001b[0m     \u001b[38;5;66;03m# Reading: check that the file exists (but is allowed a dir)\u001b[39;00m\n\u001b[1;32m    406\u001b[0m     \u001b[38;5;28;01mif\u001b[39;00m \u001b[38;5;129;01mnot\u001b[39;00m os\u001b[38;5;241m.\u001b[39mpath\u001b[38;5;241m.\u001b[39mexists(fn):\n\u001b[0;32m--> 407\u001b[0m         \u001b[38;5;28;01mraise\u001b[39;00m \u001b[38;5;167;01mFileNotFoundError\u001b[39;00m(\u001b[38;5;124m\"\u001b[39m\u001b[38;5;124mNo such file: \u001b[39m\u001b[38;5;124m'\u001b[39m\u001b[38;5;132;01m%s\u001b[39;00m\u001b[38;5;124m'\u001b[39m\u001b[38;5;124m\"\u001b[39m \u001b[38;5;241m%\u001b[39m fn)\n\u001b[1;32m    408\u001b[0m \u001b[38;5;28;01melse\u001b[39;00m:\n\u001b[1;32m    409\u001b[0m     \u001b[38;5;66;03m# Writing: check that the directory to write to does exist\u001b[39;00m\n\u001b[1;32m    410\u001b[0m     dn \u001b[38;5;241m=\u001b[39m os\u001b[38;5;241m.\u001b[39mpath\u001b[38;5;241m.\u001b[39mdirname(fn)\n",
      "\u001b[0;31mFileNotFoundError\u001b[0m: No such file: '/home/ashwin/Desktop/Data-Collection/data preprocessing/image to text/extract text from pdf/  বি\u0002জয়বি\u0005\u0002সে\u0007র শুসে\nচ্ছা\f!        । \u0002\f\rলা\fসে\u0005সে\u000fরমা\fনু\u0012সে\u0013র জনু\u0014এইবি\u0005নুটি অত্য\u0014ন্তগৌ\u001c\u001dরসে\u0002রবি\u0005নু\n  বি\u0002জয়বি\u0005\u0002সে\u0007র শুসে\nচ্ছা\f!        । \u0002\f\rলা\fসে\u0005সে\u000fরমা\fনু\u0012সে\u0013র জনু\u0014এইবি\u0005নুটি অত্য\u0014ন্তগৌ\u001c\u001dরসে\u0002রবি\u0005নু\n  বি\u0002জয়বি\u0005\u0002সে\u0007র শুসে\nচ্ছা\f!        । \u0002\f\rলা\fসে\u0005সে\u000fরমা\fনু\u0012সে\u0013র জনু\u0014এইবি\u0005নুটি অত্য\u0014ন্তগৌ\u001c\u001dরসে\u0002রবি\u0005নু\n  বি\u0002জয়বি\u0005\u0002সে\u0007র শুসে\nচ্ছা\f!        । \u0002\f\rলা\fসে\u0005সে\u000fরমা\fনু\u0012সে\u0013র জনু\u0014এইবি\u0005নুটি অত্য\u0014ন্তগৌ\u001c\u001dরসে\u0002রবি\u0005নু\n  বি\u0002জয়বি\u0005\u0002সে\u0007র শুসে\nচ্ছা\f!        । \u0002\f\rলা\fসে\u0005সে\u000fরমা\fনু\u0012সে\u0013র জনু\u0014এইবি\u0005নুটি অত্য\u0014ন্তগৌ\u001c\u001dরসে\u0002রবি\u0005নু\n  বি\u0002জয়বি\u0005\u0002সে\u0007র শুসে\nচ্ছা\f!        । \u0002\f\rলা\fসে\u0005সে\u000fরমা\fনু\u0012সে\u0013র জনু\u0014এইবি\u0005নুটি অত্য\u0014ন্তগৌ\u001c\u001dরসে\u0002রবি\u0005নু'"
     ]
    }
   ],
   "source": [
    "pdf_text = extract_text_from_pdf(pdf_path)\n",
    "bengali_text = extract_bengali_text(pdf_text)\n",
    "print(bengali_text)\n"
   ]
  }
 ],
 "metadata": {
  "kernelspec": {
   "display_name": ".venv",
   "language": "python",
   "name": "python3"
  },
  "language_info": {
   "codemirror_mode": {
    "name": "ipython",
    "version": 3
   },
   "file_extension": ".py",
   "mimetype": "text/x-python",
   "name": "python",
   "nbconvert_exporter": "python",
   "pygments_lexer": "ipython3",
   "version": "3.11.6"
  }
 },
 "nbformat": 4,
 "nbformat_minor": 2
}
