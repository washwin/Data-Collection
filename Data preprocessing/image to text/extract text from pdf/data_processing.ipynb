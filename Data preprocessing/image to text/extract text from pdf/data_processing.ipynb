{
 "cells": [
  {
   "cell_type": "code",
   "execution_count": 24,
   "metadata": {},
   "outputs": [
    {
     "name": "stderr",
     "output_type": "stream",
     "text": [
      "[nltk_data] Error loading Bangla: Package 'Bangla' not found in index\n"
     ]
    },
    {
     "data": {
      "text/plain": [
       "False"
      ]
     },
     "execution_count": 24,
     "metadata": {},
     "output_type": "execute_result"
    }
   ],
   "source": [
    "import nltk"
   ]
  },
  {
   "cell_type": "code",
   "execution_count": 22,
   "metadata": {},
   "outputs": [
    {
     "name": "stdout",
     "output_type": "stream",
     "text": [
      "[('Bali', 'NNP'), ('is', 'VBZ'), ('predominantly', 'RB'), ('a', 'DT'), ('Hindu', 'NNP'), ('country', 'NN'), ('.', '.')]\n",
      "[('Bali', 'NNP'), ('is', 'VBZ'), ('known', 'VBN'), ('for', 'IN'), ('its', 'PRP$'), ('elaborate', 'NN'), (',', ','), ('traditional', 'JJ'), ('dancing', 'NN'), ('.', '.')]\n",
      "[('The', 'DT'), ('dancing', 'NN'), ('is', 'VBZ'), ('inspired', 'VBN'), ('by', 'IN'), ('its', 'PRP$'), ('Hindi', 'NNP'), ('beliefs', 'NN'), ('.', '.')]\n",
      "[('Most', 'JJS'), ('of', 'IN'), ('the', 'DT'), ('dancing', 'NN'), ('portrays', 'VBZ'), ('tales', 'NNS'), ('of', 'IN'), ('good', 'JJ'), ('versus', 'NN'), ('evil', 'NN'), ('.', '.')]\n",
      "[('To', 'TO'), ('watch', 'VB'), ('the', 'DT'), ('dancing', 'NN'), ('is', 'VBZ'), ('a', 'DT'), ('breathtaking', 'JJ'), ('experience', 'NN'), ('.', '.')]\n",
      "[('Lombok', 'NNP'), ('has', 'VBZ'), ('some', 'DT'), ('impressive', 'JJ'), ('points', 'NNS'), ('of', 'IN'), ('interest', 'NN'), ('–', 'IN'), ('the', 'DT'), ('majestic', 'JJ'), ('Gunung', 'NNP'), ('Rinjani', 'NNP'), ('is', 'VBZ'), ('an', 'DT'), ('active', 'JJ'), ('volcano', 'NN'), ('.', '.')]\n",
      "[('It', 'PRP'), ('is', 'VBZ'), ('the', 'DT'), ('second', 'JJ'), ('highest', 'JJS'), ('peak', 'NN'), ('in', 'IN'), ('Indonesia', 'NNP'), ('.', '.')]\n"
     ]
    }
   ],
   "source": [
    "english_paragraph = \"Bali is predominantly a Hindu country. Bali is known for its elaborate, traditional dancing. The dancing is inspired by its Hindi beliefs. Most of the dancing portrays tales of good versus evil. To watch the dancing is a breathtaking experience. Lombok has some impressive points of interest – the majestic Gunung Rinjani is an active volcano. It is the second highest peak in Indonesia.\"\n",
    "bengali_paragraph = \"আমি এখানে একটি বাংলা প্যারাগ্রাফ দিয়েছি। আমরা এটি ব্যবহার করে বাক্যগুলি আলাদা করব। প্রথমে আমরা বাংলা প্যারাগ্রাফটি টোকেনাইজ করব। তারপরে আমরা এটি একটি CSV ফাইলে লেখব।\"\n",
    "tokenized = nltk.sent_tokenize(english_paragraph)\n",
    "for i in tokenized:\n",
    "       wordsList = nltk.word_tokenize(i)\n",
    "       tagged = nltk.pos_tag(wordsList)\n",
    "       print(tagged)\n",
    "# print(tokenized)\n"
   ]
  },
  {
   "cell_type": "code",
   "execution_count": 26,
   "metadata": {},
   "outputs": [
    {
     "ename": "SyntaxError",
     "evalue": "Missing parentheses in call to 'print'. Did you mean print(...)? (__init__.py, line 53)",
     "output_type": "error",
     "traceback": [
      "Traceback \u001b[0;36m(most recent call last)\u001b[0m:\n",
      "\u001b[0m  File \u001b[1;32m~/Desktop/Data-Collection/data preprocessing/image to text/.venv/lib/python3.11/site-packages/IPython/core/interactiveshell.py:3577\u001b[0m in \u001b[1;35mrun_code\u001b[0m\n    exec(code_obj, self.user_global_ns, self.user_ns)\u001b[0m\n",
      "\u001b[0;36m  Cell \u001b[0;32mIn[26], line 1\u001b[0;36m\n\u001b[0;31m    from bnlp import NLTKTokenizer\u001b[0;36m\n",
      "\u001b[0;36m  File \u001b[0;32m~/Desktop/Data-Collection/data preprocessing/image to text/.venv/lib/python3.11/site-packages/bnlp/__init__.py:53\u001b[0;36m\u001b[0m\n\u001b[0;31m    print \"percentage gibberish is\", percentage\u001b[0m\n\u001b[0m    ^\u001b[0m\n\u001b[0;31mSyntaxError\u001b[0m\u001b[0;31m:\u001b[0m Missing parentheses in call to 'print'. Did you mean print(...)?\n"
     ]
    }
   ],
   "source": [
    "from bnlp import NLTKTokenizer\n",
    "\n",
    "bnltk = NLTKTokenizer()\n",
    "\n",
    "# text = \"আমার নাম রাজদীপ। আমি যাদবপুরে থাকি। বাংলা আমার মাতৃভাষা।\"\n",
    "\n",
    "word_tokens = bnltk.word_tokenize(bengali_paragraph)\n",
    "sentence_tokens = bnltk.sentence_tokenize(bengali_paragraph)\n",
    "print(word_tokens)\n",
    "print(sentence_tokens)"
   ]
  }
 ],
 "metadata": {
  "kernelspec": {
   "display_name": ".venv",
   "language": "python",
   "name": "python3"
  },
  "language_info": {
   "codemirror_mode": {
    "name": "ipython",
    "version": 3
   },
   "file_extension": ".py",
   "mimetype": "text/x-python",
   "name": "python",
   "nbconvert_exporter": "python",
   "pygments_lexer": "ipython3",
   "version": "3.11.6"
  }
 },
 "nbformat": 4,
 "nbformat_minor": 2
}
