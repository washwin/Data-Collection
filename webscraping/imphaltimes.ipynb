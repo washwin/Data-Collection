{
 "cells": [
  {
   "cell_type": "code",
   "execution_count": 16,
   "metadata": {},
   "outputs": [],
   "source": [
    "from bs4 import BeautifulSoup\n",
    "import requests\n",
    "import csv"
   ]
  },
  {
   "cell_type": "code",
   "execution_count": 17,
   "metadata": {},
   "outputs": [],
   "source": [
    "source = requests.get('https://www.imphaltimes.com/category/articles/').text\n",
    "soup = BeautifulSoup(source, 'html.parser')\n",
    "print(soup.prettify())"
   ]
  },
  {
   "cell_type": "code",
   "execution_count": 18,
   "metadata": {},
   "outputs": [
    {
     "name": "stdout",
     "output_type": "stream",
     "text": [
      "https://www.imphaltimes.com/articles/international-mother-language-day/\n",
      "https://www.imphaltimes.com/articles/migratory-birds-loktak-lake/\n",
      "https://www.imphaltimes.com/articles/wetland-and-human-wellbeing/\n",
      "https://www.imphaltimes.com/articles/restoration-of-lamphel-pat-in-its-original-status/\n",
      "https://www.imphaltimes.com/articles/intellectual-property-challenges-issues/\n",
      "https://www.imphaltimes.com/articles/eves-power-to-prevail-at-r-day-parade-in-national-capital/\n",
      "https://www.imphaltimes.com/articles/present-manipur-social-imbroglio-where-is-the-provincial-government/\n",
      "https://www.imphaltimes.com/articles/education-in-india-is-passing-through-once-again-a-seminal-phase-in-its-growth/\n",
      "https://www.imphaltimes.com/articles/electronic-soil-for-alternative-farming/\n"
     ]
    }
   ],
   "source": [
    "h2_tags = soup.find_all('h2', class_='penci-entry-title entry-title grid-title')\n",
    "links = []\n",
    "for h2_tag in h2_tags:\n",
    "    a_tag = h2_tag.find('a')\n",
    "    link = a_tag['href']\n",
    "    print(link)\n",
    "    links.append(link)"
   ]
  },
  {
   "cell_type": "code",
   "execution_count": 22,
   "metadata": {},
   "outputs": [],
   "source": [
    "with open('extracted_data/imphaltimes_articles.csv', 'w', newline='', encoding='utf-8') as csvfile:\n",
    "    writer = csv.writer(csvfile)\n",
    "    writer.writerow(['Title', 'Content'])\n",
    "    for link in links:\n",
    "        title = link.strip('/').split('/')[-1]\n",
    "        source1 = requests.get(link).text\n",
    "        soup1 = BeautifulSoup(source1, 'html.parser')\n",
    "        div_tag = soup1.find('div', id='pryc-wp-acctp-original-content')\n",
    "        if div_tag:\n",
    "            p_tags = div_tag.find_all('p')\n",
    "            content = \"\"\n",
    "            for p_tag in p_tags:\n",
    "                content += p_tag.get_text(strip=True) + \" \"\n",
    "            writer.writerow([title, content])  # Write title and content in the same row\n",
    "        else:\n",
    "            writer.writerow([title, \"No div tag found with the specified id.\"])  # Write title and error message\n",
    "csvfile.close()\n"
   ]
  }
 ],
 "metadata": {
  "kernelspec": {
   "display_name": ".venv",
   "language": "python",
   "name": "python3"
  },
  "language_info": {
   "codemirror_mode": {
    "name": "ipython",
    "version": 3
   },
   "file_extension": ".py",
   "mimetype": "text/x-python",
   "name": "python",
   "nbconvert_exporter": "python",
   "pygments_lexer": "ipython3",
   "version": "3.11.6"
  }
 },
 "nbformat": 4,
 "nbformat_minor": 2
}
