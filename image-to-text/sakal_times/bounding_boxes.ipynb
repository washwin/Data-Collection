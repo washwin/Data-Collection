{
 "cells": [
  {
   "cell_type": "code",
   "execution_count": 1,
   "metadata": {},
   "outputs": [],
   "source": [
    "import pytesseract\n",
    "pytesseract.pytesseract.tesseract_cmd = r'C:\\Program Files\\Tesseract-OCR\\tesseract.exe'\n",
    "tessdata_dir_config = '--tessdata-dir \"C:/Program Files/Tesseract-OCR/tessdata\"'\n",
    "import cv2"
   ]
  },
  {
   "cell_type": "code",
   "execution_count": 2,
   "metadata": {},
   "outputs": [],
   "source": [
    "image = cv2.imread(\"images/sakal2.png\")\n",
    "base_image = image.copy()"
   ]
  },
  {
   "cell_type": "code",
   "execution_count": 3,
   "metadata": {},
   "outputs": [],
   "source": [
    "gray = cv2.cvtColor(image, cv2.COLOR_BGR2GRAY)"
   ]
  },
  {
   "cell_type": "code",
   "execution_count": 4,
   "metadata": {},
   "outputs": [
    {
     "data": {
      "text/plain": [
       "True"
      ]
     },
     "execution_count": 4,
     "metadata": {},
     "output_type": "execute_result"
    }
   ],
   "source": [
    "cv2.imwrite(\"images/index_gray.png\", gray)"
   ]
  },
  {
   "cell_type": "code",
   "execution_count": 5,
   "metadata": {},
   "outputs": [],
   "source": [
    "blur = cv2.GaussianBlur(gray, (7,7), 0)"
   ]
  },
  {
   "cell_type": "code",
   "execution_count": 6,
   "metadata": {},
   "outputs": [
    {
     "data": {
      "text/plain": [
       "True"
      ]
     },
     "execution_count": 6,
     "metadata": {},
     "output_type": "execute_result"
    }
   ],
   "source": [
    "cv2.imwrite(\"images/index_blur.png\", blur)"
   ]
  },
  {
   "cell_type": "code",
   "execution_count": 7,
   "metadata": {},
   "outputs": [],
   "source": [
    "thresh = cv2.threshold(blur, 0, 160, cv2.THRESH_BINARY_INV + cv2.THRESH_OTSU)[1]"
   ]
  },
  {
   "cell_type": "code",
   "execution_count": 8,
   "metadata": {},
   "outputs": [
    {
     "data": {
      "text/plain": [
       "True"
      ]
     },
     "execution_count": 8,
     "metadata": {},
     "output_type": "execute_result"
    }
   ],
   "source": [
    "cv2.imwrite(\"images/index_thresh.png\", thresh)"
   ]
  },
  {
   "cell_type": "code",
   "execution_count": 9,
   "metadata": {},
   "outputs": [],
   "source": [
    "kernal = cv2.getStructuringElement(cv2.MORPH_RECT, (3, 13))"
   ]
  },
  {
   "cell_type": "code",
   "execution_count": 10,
   "metadata": {},
   "outputs": [
    {
     "data": {
      "text/plain": [
       "True"
      ]
     },
     "execution_count": 10,
     "metadata": {},
     "output_type": "execute_result"
    }
   ],
   "source": [
    "cv2.imwrite(\"images/index_kernal.png\", kernal)"
   ]
  },
  {
   "cell_type": "code",
   "execution_count": 11,
   "metadata": {},
   "outputs": [],
   "source": [
    "dilate = cv2.dilate(thresh, kernal, iterations=1)"
   ]
  },
  {
   "cell_type": "code",
   "execution_count": 12,
   "metadata": {},
   "outputs": [
    {
     "data": {
      "text/plain": [
       "True"
      ]
     },
     "execution_count": 12,
     "metadata": {},
     "output_type": "execute_result"
    }
   ],
   "source": [
    "cv2.imwrite(\"images/index_dilate.png\", dilate)"
   ]
  },
  {
   "cell_type": "code",
   "execution_count": 13,
   "metadata": {},
   "outputs": [],
   "source": [
    "cnts = cv2.findContours(dilate, cv2.RETR_EXTERNAL, cv2.CHAIN_APPROX_SIMPLE)"
   ]
  },
  {
   "cell_type": "code",
   "execution_count": 14,
   "metadata": {},
   "outputs": [],
   "source": [
    "cnts = cnts[0] if len(cnts) == 2 else cents[1]"
   ]
  },
  {
   "cell_type": "code",
   "execution_count": 15,
   "metadata": {},
   "outputs": [],
   "source": [
    "cnts = sorted(cnts, key=lambda x: cv2.boundingRect(x)[0])"
   ]
  },
  {
   "cell_type": "code",
   "execution_count": 17,
   "metadata": {},
   "outputs": [
    {
     "name": "stdout",
     "output_type": "stream",
     "text": [
      "करतात, तर गुंतवणुकीच्या दृष्टीने\n",
      "देखील सोने-चांदीची खरेदी\n",
      "करण्याला पसंती दिली जाते. अशा\n",
      "स्थितीत, धनत्रयोदशीपूर्वी ग्राहकांना\n",
      "खरेदीची संधी चालून आली आहे.\n",
      "दिवाळीच्या आधीच सोन्याच्या\n",
      "भावात झालेली हलकी घट आणि\n",
      "मुहूर्तावर केली जाणारी खरेदी यामुळे\n",
      "धनत्रयोदशीच्या निमित्ताने सराफ\n",
      "\n",
      "पुणे, ता. ९ : दिवाळीच्या निमित्ताने स्प\n",
      "लक्ष्मी पूजनाचा मुहूर्त साधून निमित्त खरेदी\n",
      "नागरिक सोन्या-चांदीची खरेदी देखील सज्ज\n",
      "प्रतिसाद मिळेल\n",
      "केली आहे. ट\n",
      "व व्यवस्थापर्क\n",
      "यांनी सांगितले\n",
      "तेजी आणि येण\n",
      "वषपिक्षा धनत्रये\n",
      "टक्‍के वाढ अपे\n",
      "दिवाळीनिमित्त\n",
      "वाढेल. एकीकर\n",
      "आणखी वाढ\n",
      "ग्राहकांचा या\n",
      "बुकिंगकडेदेखीत\n",
      "\n",
      "\n",
      "नवीन घर, गाडी आणि दागिन्यांची धनत्रयोदशीच्या\n",
      "निमित्त खरेदी केली जाते. त्यामुळे सराफ बाजार\n",
      "देखील सज्ज आहे. यंदादेखील नागरिकांचा चांगला\n",
      "प्रतिसाद मिळेल, अशी अपेक्षा व्यावसायिकांनी व्यक्‍त\n",
      "केली आहे. याबाबत पीएनजी ज्वेलर्सचे अध्यक्ष\n",
      "व व्यवस्थापकीय संचालक डॉ. सौरभ गाडगीळ\n",
      "यांनी सांगितले की, सध्या बाजारपेठेत असलेली\n",
      "तेजी आणि येणारी लग्नसराईचा काळ यामुळे गेल्या\n",
      "वषपिक्षा धनत्रयोदशीच्या दिवशी विक्रीमध्ये १५ ते २०\n",
      "टक्के वाढ अपेक्षित आहे. नोकरदारांना नोव्हेंबरमध्ये\n",
      "दिवाळीनिमित्त बोनस मिळत असल्याने विक्री अजून\n",
      "वाढेल. एकीकडे सोन्याचे वाढणारे भाव आणि त्यात\n",
      "आणखी वाढ होण्याआधी खरेदी करावी, म्हणून\n",
      "ग्राहकांचा या वर्षी सोने खरेदीसाठी ऑनलाइन\n",
      "बुकिंगकडेदेखील कल दिसून येत आहे.\n",
      "\n",
      "\n",
      "७ धनत्रयोदशीच्या दिवशी सोने खरेदी (८\n",
      "हिरे खरेदी (१० टक्के) आणि चांदी (५2क\n",
      "ग्राहकांची पसंती असते. सोन्याच्या बाबर्त\n",
      "विक्रीच्या ३० टक्के विक्री नाणी आणि बि\n",
      "अपेक्षित आहे, तर उर्वरित ७० टक्के खरे\n",
      "दागिन्यांद्वारे होईल, अशी अपेक्षा आहे. या\n",
      "सोन्याच्या दागिन्यांचा वाटा मोठ्या प्रमाण\n",
      "\n",
      "\n"
     ]
    },
    {
     "data": {
      "text/plain": [
       "True"
      ]
     },
     "execution_count": 17,
     "metadata": {},
     "output_type": "execute_result"
    }
   ],
   "source": [
    "for c in cnts:\n",
    "    x, y, w, h = cv2.boundingRect(c)\n",
    "    if h > 200 and w > 20:\n",
    "        roi = image[y:y+h, x:x+h]\n",
    "#         cv2.imwrite(\"images/index_roi.png\", roi)\n",
    "        ocr_result = pytesseract.image_to_string(roi, lang='mar', config=tessdata_dir_config)\n",
    "        print(ocr_result)\n",
    "        cv2.rectangle(image, (x, y), (x+w, y+h), (36, 255, 12), 2)\n",
    "cv2.imwrite(\"images/index_bbox_new.png\", image)"
   ]
  },
  {
   "cell_type": "code",
   "execution_count": null,
   "metadata": {},
   "outputs": [],
   "source": []
  }
 ],
 "metadata": {
  "kernelspec": {
   "display_name": "Python 3 (ipykernel)",
   "language": "python",
   "name": "python3"
  },
  "language_info": {
   "codemirror_mode": {
    "name": "ipython",
    "version": 3
   },
   "file_extension": ".py",
   "mimetype": "text/x-python",
   "name": "python",
   "nbconvert_exporter": "python",
   "pygments_lexer": "ipython3",
   "version": "3.10.9"
  }
 },
 "nbformat": 4,
 "nbformat_minor": 4
}
