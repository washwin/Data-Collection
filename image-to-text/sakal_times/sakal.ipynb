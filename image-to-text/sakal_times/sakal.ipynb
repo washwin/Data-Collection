{
 "cells": [
  {
   "cell_type": "code",
   "execution_count": 2,
   "id": "3b08d08a",
   "metadata": {},
   "outputs": [],
   "source": [
    "import cv2\n",
    "import pytesseract\n",
    "pytesseract.pytesseract.tesseract_cmd = r'C:\\Program Files\\Tesseract-OCR\\tesseract.exe'\n",
    "image_file = \"images/\"\n",
    "img = cv2.imread(image_file)"
   ]
  },
  {
   "cell_type": "code",
   "execution_count": 4,
   "id": "bd3f58ac",
   "metadata": {},
   "outputs": [
    {
     "name": "stdout",
     "output_type": "stream",
     "text": [
      "\"न्याय!\n",
      "\n",
      "उपात उन्हा\n",
      "लाथाळी\n",
      "\n",
      "मध कंन्यांच्या पाण्याबाबत मतघेद\n",
      "\n",
      "देवनार आगप्रकरणी\n",
      "नऊ जण अटकेत.\n",
      "\n",
      "डड अमली पदार्थ जप्त\n",
      "\n",
      "सोलापुरात देशातील सर्वात मोठी कारवाई\n",
      "\n"
     ]
    }
   ],
   "source": [
    "lang = \"mar\"\n",
    "\n",
    "tessdata_dir_config = '--tessdata-dir \"C:/Program Files/Tesseract-OCR/tessdata\"'\n",
    "text = pytesseract.image_to_string(img, lang=lang, config=tessdata_dir_config)\n",
    "print(text)"
   ]
  },
  {
   "cell_type": "code",
   "execution_count": null,
   "id": "1b47572a",
   "metadata": {},
   "outputs": [],
   "source": []
  }
 ],
 "metadata": {
  "kernelspec": {
   "display_name": "Python 3 (ipykernel)",
   "language": "python",
   "name": "python3"
  },
  "language_info": {
   "codemirror_mode": {
    "name": "ipython",
    "version": 3
   },
   "file_extension": ".py",
   "mimetype": "text/x-python",
   "name": "python",
   "nbconvert_exporter": "python",
   "pygments_lexer": "ipython3",
   "version": "3.10.9"
  }
 },
 "nbformat": 4,
 "nbformat_minor": 5
}
