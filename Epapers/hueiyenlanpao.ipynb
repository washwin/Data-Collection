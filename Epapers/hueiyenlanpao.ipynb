{
 "cells": [
  {
   "cell_type": "code",
   "execution_count": 1,
   "metadata": {},
   "outputs": [],
   "source": [
    "import requests\n",
    "from datetime import timedelta, date"
   ]
  },
  {
   "cell_type": "code",
   "execution_count": 3,
   "metadata": {},
   "outputs": [],
   "source": [
    "def download_pdf(url, name, directory):\n",
    "    save_path = f\"downloaded_pdfs/{directory}/{name}\"\n",
    "    response = requests.get(url)\n",
    "    if response.status_code == 200:\n",
    "        with open(save_path, 'wb') as pdf_file:\n",
    "            pdf_file.write(response.content)\n",
    "        print(f\"PDF downloaded successfully and saved at: {save_path}\")\n",
    "    else:\n",
    "        print(f\"Failed to download PDF. Status code: {response.status_code}\")\n",
    "\n",
    "def check_link_existence(url):\n",
    "    try:\n",
    "        response = requests.head(url, timeout=5)\n",
    "        return response.status_code == 200\n",
    "    except requests.ConnectionError:\n",
    "        return False\n",
    "    \n",
    "def fetch_hueiyenlanpao():\n",
    "    start_date = date(2024, 2, 4)\n",
    "    end_date = date(2024, 2, 4)\n",
    "    day = 1\n",
    "    month = 1\n",
    "    year = 2024\n",
    "    dates = []\n",
    "    current_date = start_date\n",
    "    while current_date <= end_date:\n",
    "        dates.append(current_date)\n",
    "        current_date += timedelta(days=1)\n",
    "\n",
    "    links = []\n",
    "    directory = \"hueiyenlanpao\"\n",
    "    for d in dates:\n",
    "        i = 1\n",
    "        if d.day <10:\n",
    "            day = f\"0{d.day}\"\n",
    "        if d.month < 10:\n",
    "            month = f\"0{d.month}\"\n",
    "        while (True):\n",
    "            link = f\"https://hueiyenlanpao.com/wp-content/uploads/2016/06/{day}.{month}.{d.year}-B{i}.pdf\"\n",
    "            i = i + 1\n",
    "            if check_link_existence(link):\n",
    "                links.append(link)\n",
    "                print(link)\n",
    "                name = f\"{d.year}-{month}-{day}:{i}.pdf\"\n",
    "                download_pdf(link, name, directory)\n",
    "            else:\n",
    "                break"
   ]
  },
  {
   "cell_type": "code",
   "execution_count": null,
   "metadata": {},
   "outputs": [],
   "source": [
    "fetch_hueiyenlanpao()"
   ]
  }
 ],
 "metadata": {
  "kernelspec": {
   "display_name": ".venv",
   "language": "python",
   "name": "python3"
  },
  "language_info": {
   "codemirror_mode": {
    "name": "ipython",
    "version": 3
   },
   "file_extension": ".py",
   "mimetype": "text/x-python",
   "name": "python",
   "nbconvert_exporter": "python",
   "pygments_lexer": "ipython3",
   "version": "3.11.6"
  }
 },
 "nbformat": 4,
 "nbformat_minor": 2
}
