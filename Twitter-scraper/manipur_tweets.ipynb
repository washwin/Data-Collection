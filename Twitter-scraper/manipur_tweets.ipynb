{
 "cells": [
  {
   "cell_type": "code",
   "execution_count": 1,
   "metadata": {},
   "outputs": [
    {
     "name": "stdout",
     "output_type": "stream",
     "text": [
      "Collecting twikit\n",
      "  Downloading twikit-1.2.1-py3-none-any.whl.metadata (3.6 kB)\n",
      "Collecting httpx (from twikit)\n",
      "  Downloading httpx-0.27.0-py3-none-any.whl.metadata (7.2 kB)\n",
      "Collecting fake-useragent (from twikit)\n",
      "  Downloading fake_useragent-1.4.0-py3-none-any.whl.metadata (13 kB)\n",
      "Collecting anyio (from httpx->twikit)\n",
      "  Downloading anyio-4.3.0-py3-none-any.whl.metadata (4.6 kB)\n",
      "Collecting certifi (from httpx->twikit)\n",
      "  Using cached certifi-2024.2.2-py3-none-any.whl.metadata (2.2 kB)\n",
      "Collecting httpcore==1.* (from httpx->twikit)\n",
      "  Downloading httpcore-1.0.4-py3-none-any.whl.metadata (20 kB)\n",
      "Collecting idna (from httpx->twikit)\n",
      "  Using cached idna-3.6-py3-none-any.whl.metadata (9.9 kB)\n",
      "Collecting sniffio (from httpx->twikit)\n",
      "  Downloading sniffio-1.3.1-py3-none-any.whl.metadata (3.9 kB)\n",
      "Collecting h11<0.15,>=0.13 (from httpcore==1.*->httpx->twikit)\n",
      "  Downloading h11-0.14.0-py3-none-any.whl.metadata (8.2 kB)\n",
      "Downloading twikit-1.2.1-py3-none-any.whl (59 kB)\n",
      "\u001b[2K   \u001b[90m━━━━━━━━━━━━━━━━━━━━━━━━━━━━━━━━━━━━━━━━\u001b[0m \u001b[32m59.7/59.7 kB\u001b[0m \u001b[31m670.4 kB/s\u001b[0m eta \u001b[36m0:00:00\u001b[0ma \u001b[36m0:00:01\u001b[0m\n",
      "\u001b[?25hDownloading fake_useragent-1.4.0-py3-none-any.whl (15 kB)\n",
      "Downloading httpx-0.27.0-py3-none-any.whl (75 kB)\n",
      "\u001b[2K   \u001b[90m━━━━━━━━━━━━━━━━━━━━━━━━━━━━━━━━━━━━━━━━\u001b[0m \u001b[32m75.6/75.6 kB\u001b[0m \u001b[31m451.2 kB/s\u001b[0m eta \u001b[36m0:00:00\u001b[0ma \u001b[36m0:00:01\u001b[0m\n",
      "\u001b[?25hDownloading httpcore-1.0.4-py3-none-any.whl (77 kB)\n",
      "\u001b[2K   \u001b[90m━━━━━━━━━━━━━━━━━━━━━━━━━━━━━━━━━━━━━━━━\u001b[0m \u001b[32m77.8/77.8 kB\u001b[0m \u001b[31m482.3 kB/s\u001b[0m eta \u001b[36m0:00:00\u001b[0ma \u001b[36m0:00:01\u001b[0m\n",
      "\u001b[?25hDownloading anyio-4.3.0-py3-none-any.whl (85 kB)\n",
      "\u001b[2K   \u001b[90m━━━━━━━━━━━━━━━━━━━━━━━━━━━━━━━━━━━━━━━━\u001b[0m \u001b[32m85.6/85.6 kB\u001b[0m \u001b[31m556.6 kB/s\u001b[0m eta \u001b[36m0:00:00\u001b[0ma \u001b[36m0:00:01\u001b[0m\n",
      "\u001b[?25hUsing cached idna-3.6-py3-none-any.whl (61 kB)\n",
      "Downloading sniffio-1.3.1-py3-none-any.whl (10 kB)\n",
      "Using cached certifi-2024.2.2-py3-none-any.whl (163 kB)\n",
      "Downloading h11-0.14.0-py3-none-any.whl (58 kB)\n",
      "\u001b[2K   \u001b[90m━━━━━━━━━━━━━━━━━━━━━━━━━━━━━━━━━━━━━━━━\u001b[0m \u001b[32m58.3/58.3 kB\u001b[0m \u001b[31m2.1 MB/s\u001b[0m eta \u001b[36m0:00:00\u001b[0ma \u001b[36m0:00:01\u001b[0m\n",
      "\u001b[?25hInstalling collected packages: fake-useragent, sniffio, idna, h11, certifi, httpcore, anyio, httpx, twikit\n",
      "Successfully installed anyio-4.3.0 certifi-2024.2.2 fake-useragent-1.4.0 h11-0.14.0 httpcore-1.0.4 httpx-0.27.0 idna-3.6 sniffio-1.3.1 twikit-1.2.1\n"
     ]
    }
   ],
   "source": [
    "!pip install twikit"
   ]
  },
  {
   "cell_type": "code",
   "execution_count": 1,
   "metadata": {},
   "outputs": [],
   "source": [
    "from twikit import Client\n",
    "import csv\n",
    "import time\n",
    "import twikit"
   ]
  },
  {
   "cell_type": "code",
   "execution_count": 2,
   "metadata": {},
   "outputs": [
    {
     "data": {
      "text/plain": [
       "{'flow_token': 'g;171044136891649535:-1710441369308:UO0Ok3MW3EoG3tL11cFYyKP7:14',\n",
       " 'status': 'success',\n",
       " 'subtasks': [{'subtask_id': 'LoginSuccessSubtask',\n",
       "   'open_account': {'user': {'id': 1766078927519510528,\n",
       "     'id_str': '1766078927519510528',\n",
       "     'name': 'data-collection',\n",
       "     'screen_name': 'DataC51466'},\n",
       "    'next_link': {'link_type': 'subtask',\n",
       "     'link_id': 'next_link',\n",
       "     'subtask_id': 'SuccessExit'},\n",
       "    'attribution_event': 'login'}},\n",
       "  {'subtask_id': 'SuccessExit',\n",
       "   'open_link': {'link': {'link_type': 'subtask',\n",
       "     'link_id': 'next_link',\n",
       "     'subtask_id': 'LoginOpenHomeTimeline'}}},\n",
       "  {'subtask_id': 'LoginOpenHomeTimeline',\n",
       "   'open_home_timeline': {'next_link': {'link_type': 'abort',\n",
       "     'link_id': 'next_link'}}}]}"
      ]
     },
     "execution_count": 2,
     "metadata": {},
     "output_type": "execute_result"
    }
   ],
   "source": [
    "\n",
    "USERNAME = 'DataC51466'\n",
    "EMAIL = '210010060@iitdh.ac.in'\n",
    "PASSWORD = 'xxxxxx'\n",
    "# Initialize client\n",
    "client = Client('en-US')\n",
    "# Login to the service with provided user credentials\n",
    "client.login(\n",
    "    auth_info_1=USERNAME ,\n",
    "    auth_info_2=EMAIL,\n",
    "    password=PASSWORD\n",
    ")"
   ]
  },
  {
   "cell_type": "code",
   "execution_count": 3,
   "metadata": {},
   "outputs": [
    {
     "name": "stdout",
     "output_type": "stream",
     "text": [
      "<Tweet id=\"1768345279189942622\">\n",
      "<Tweet id=\"1768345111841378396\">\n",
      "<Tweet id=\"1768345074872811773\">\n",
      "<Tweet id=\"1768345072536555634\">\n",
      "<Tweet id=\"1768344882551390494\">\n",
      "<Tweet id=\"1768344865258246333\">\n",
      "<Tweet id=\"1768344793137242409\">\n",
      "<Tweet id=\"1768344792617124207\">\n",
      "<Tweet id=\"1768344789609807901\">\n",
      "<Tweet id=\"1768344649322922202\">\n",
      "<Tweet id=\"1768344277128503518\">\n",
      "<Tweet id=\"1768344049726193985\">\n",
      "<Tweet id=\"1768343952191848617\">\n",
      "<Tweet id=\"1768343437772792202\">\n",
      "<Tweet id=\"1768343380285915576\">\n",
      "<Tweet id=\"1768343297066700801\">\n",
      "<Tweet id=\"1768343296483430624\">\n",
      "<Tweet id=\"1768343135849988204\">\n"
     ]
    }
   ],
   "source": [
    "tweets = client.search_tweet('Manipur', 'Latest')\n",
    "for tweet_id in tweets:\n",
    "    print(tweet_id)\n",
    "# Search more tweets\n",
    "# more_tweets = tweets.next()\n",
    "# for tweet_id in more_tweets:\n",
    "#     print(tweet_id)"
   ]
  },
  {
   "cell_type": "code",
   "execution_count": 7,
   "metadata": {},
   "outputs": [],
   "source": [
    "with open('manipur_tweets.csv', 'w', newline='') as output_csv_file:\n",
    "    csv_writer = csv.writer(output_csv_file)\n",
    "    csv_writer.writerow(['id', 'text', 'favorite_count', 'created_at', 'author', 'language', 'retweet_count', 'media', 'view_count', 'replies'])\n",
    "    for tweet in tweets:\n",
    "        tweet = client.get_tweet_by_id(tweet.id)\n",
    "        # Access tweet attributes\n",
    "        # print(\n",
    "        #     f'id: {tweet.id}',\n",
    "        #     f'text {tweet.text}',\n",
    "        #     f'favorite count: {tweet.favorite_count}',\n",
    "        #     f'media: {tweet.media}',\n",
    "        #     sep='\\n'\n",
    "        # )\n",
    "        csv_writer.writerow([tweet.id, tweet.text, tweet.favorite_count, tweet.created_at, tweet.user.name, tweet.lang, tweet.retweet_count, tweet.media, tweet.view_count, tweet.replies])"
   ]
  },
  {
   "cell_type": "code",
   "execution_count": 2,
   "metadata": {},
   "outputs": [
    {
     "name": "stdout",
     "output_type": "stream",
     "text": [
      "47\n"
     ]
    }
   ],
   "source": [
    "hash_tags = \"#KukiMilitant #SaveManipur #Savemeiteis #Ethniccleansing #kukimilitants #kuki #meitei #visitManipur #Kuki_ZoEngineeredViolence #SaveMoreh #SaveManipurSaveIndia #MorehBurning #ManipurFights Back #KukiMilitantvioleteSoO #AbrogateSoO #poppy #illegalImmigration #terror #Sanamahi #7MonthsOfNoInternet #StopTheViolence #MyManipur #Stand4Manipur #ManipurUnderAttack #StopGenocideofMeiteis #lies #genocide #KukiLiesXposed #KukiAtrocites #KukiZoEngineerdManipurConflict #meiteiyouths #KukiWarCrimes #PoppyCultivators #kukinarcoterrorist #Narcokukiterrorist #SavekukiZoTribals #ManipurCrisis #KukiRapist #AssamRifles#lamkatalk #stoppoppycultivators #kukizo #kukizolivesmatter #ManipurPolice #FailedGovernment #manipurisburning #MeiteiMilitant \"\n",
    "hashtags = hash_tags.split()\n",
    "# print(hashtags)\n",
    "print(len(hashtags))"
   ]
  },
  {
   "cell_type": "code",
   "execution_count": 27,
   "metadata": {},
   "outputs": [
    {
     "name": "stdout",
     "output_type": "stream",
     "text": [
      "<Tweet id=\"1765915216578269251\">\n",
      "<Tweet id=\"1765911297038909500\">\n",
      "<Tweet id=\"1764602594054267306\">\n",
      "<Tweet id=\"1763921640847528148\">\n",
      "<Tweet id=\"1763798596783140905\">\n",
      "<Tweet id=\"1763609741853589769\">\n",
      "<Tweet id=\"1763519890273755610\">\n",
      "<Tweet id=\"1763494714983297385\">\n",
      "<Tweet id=\"1763488287203921948\">\n",
      "<Tweet id=\"1763297268734816692\">\n",
      "More tweets\n",
      "More tweets\n",
      "More tweets\n",
      "More tweets\n",
      "More tweets\n",
      "More tweets\n",
      "More tweets\n",
      "More tweets\n",
      "More tweets\n",
      "More tweets\n",
      "More tweets\n",
      "More tweets\n",
      "More tweets\n",
      "More tweets\n",
      "More tweets\n",
      "More tweets\n",
      "More tweets\n",
      "More tweets\n",
      "More tweets\n",
      "More tweets\n",
      "More tweets\n",
      "More tweets\n",
      "More tweets\n",
      "More tweets\n",
      "More tweets\n",
      "More tweets\n",
      "More tweets\n",
      "More tweets\n",
      "More tweets\n",
      "More tweets\n",
      "More tweets\n",
      "More tweets\n",
      "More tweets\n",
      "More tweets\n",
      "More tweets\n",
      "More tweets\n",
      "More tweets\n",
      "More tweets\n",
      "More tweets\n",
      "More tweets\n",
      "More tweets\n",
      "More tweets\n",
      "More tweets\n"
     ]
    },
    {
     "ename": "TooManyRequests",
     "evalue": "status: 429, message: \"Rate limit exceeded\n\"",
     "output_type": "error",
     "traceback": [
      "\u001b[0;31m---------------------------------------------------------------------------\u001b[0m",
      "\u001b[0;31mTooManyRequests\u001b[0m                           Traceback (most recent call last)",
      "Cell \u001b[0;32mIn[27], line 6\u001b[0m\n\u001b[1;32m      4\u001b[0m \u001b[38;5;28;01mwhile\u001b[39;00m \u001b[38;5;28;01mTrue\u001b[39;00m:\n\u001b[1;32m      5\u001b[0m     \u001b[38;5;28mprint\u001b[39m(\u001b[38;5;124m\"\u001b[39m\u001b[38;5;124mMore tweets\u001b[39m\u001b[38;5;124m\"\u001b[39m)\n\u001b[0;32m----> 6\u001b[0m     more_tweets \u001b[38;5;241m=\u001b[39m \u001b[43mtweets\u001b[49m\u001b[38;5;241;43m.\u001b[39;49m\u001b[43mnext\u001b[49m\u001b[43m(\u001b[49m\u001b[43m)\u001b[49m\n",
      "File \u001b[0;32m~/Desktop/Data-Collection/twitter-scraper/.venv/lib/python3.11/site-packages/twikit/utils.py:163\u001b[0m, in \u001b[0;36mResult.next\u001b[0;34m(self)\u001b[0m\n\u001b[1;32m    161\u001b[0m \u001b[38;5;28;01mif\u001b[39;00m \u001b[38;5;28mself\u001b[39m\u001b[38;5;241m.\u001b[39m__fetch_next_result \u001b[38;5;129;01mis\u001b[39;00m \u001b[38;5;28;01mNone\u001b[39;00m:\n\u001b[1;32m    162\u001b[0m     \u001b[38;5;28;01mreturn\u001b[39;00m Result([])\n\u001b[0;32m--> 163\u001b[0m \u001b[38;5;28;01mreturn\u001b[39;00m \u001b[38;5;28;43mself\u001b[39;49m\u001b[38;5;241;43m.\u001b[39;49m\u001b[43m__fetch_next_result\u001b[49m\u001b[43m(\u001b[49m\u001b[43m)\u001b[49m\n",
      "File \u001b[0;32m~/Desktop/Data-Collection/twitter-scraper/.venv/lib/python3.11/site-packages/twikit/client.py:471\u001b[0m, in \u001b[0;36mClient.search_tweet.<locals>.<lambda>\u001b[0;34m()\u001b[0m\n\u001b[1;32m    466\u001b[0m     user_info \u001b[38;5;241m=\u001b[39m tweet_info[\u001b[38;5;124m'\u001b[39m\u001b[38;5;124mcore\u001b[39m\u001b[38;5;124m'\u001b[39m][\u001b[38;5;124m'\u001b[39m\u001b[38;5;124muser_results\u001b[39m\u001b[38;5;124m'\u001b[39m][\u001b[38;5;124m'\u001b[39m\u001b[38;5;124mresult\u001b[39m\u001b[38;5;124m'\u001b[39m]\n\u001b[1;32m    467\u001b[0m     results\u001b[38;5;241m.\u001b[39mappend(Tweet(\u001b[38;5;28mself\u001b[39m, tweet_info, User(\u001b[38;5;28mself\u001b[39m, user_info)))\n\u001b[1;32m    469\u001b[0m \u001b[38;5;28;01mreturn\u001b[39;00m Result(\n\u001b[1;32m    470\u001b[0m     results,\n\u001b[0;32m--> 471\u001b[0m     \u001b[38;5;28;01mlambda\u001b[39;00m:\u001b[38;5;28;43mself\u001b[39;49m\u001b[38;5;241;43m.\u001b[39;49m\u001b[43msearch_tweet\u001b[49m\u001b[43m(\u001b[49m\u001b[43mquery\u001b[49m\u001b[43m,\u001b[49m\u001b[43m \u001b[49m\u001b[43mproduct\u001b[49m\u001b[43m,\u001b[49m\u001b[43m \u001b[49m\u001b[43mcount\u001b[49m\u001b[43m,\u001b[49m\u001b[43m \u001b[49m\u001b[43mnext_cursor\u001b[49m\u001b[43m)\u001b[49m,\n\u001b[1;32m    472\u001b[0m     next_cursor\n\u001b[1;32m    473\u001b[0m )\n",
      "File \u001b[0;32m~/Desktop/Data-Collection/twitter-scraper/.venv/lib/python3.11/site-packages/twikit/client.py:443\u001b[0m, in \u001b[0;36mClient.search_tweet\u001b[0;34m(self, query, product, count, cursor)\u001b[0m\n\u001b[1;32m    402\u001b[0m \u001b[38;5;250m\u001b[39m\u001b[38;5;124;03m\"\"\"\u001b[39;00m\n\u001b[1;32m    403\u001b[0m \u001b[38;5;124;03mSearches for tweets based on the specified query and\u001b[39;00m\n\u001b[1;32m    404\u001b[0m \u001b[38;5;124;03mproduct type.\u001b[39;00m\n\u001b[0;32m   (...)\u001b[0m\n\u001b[1;32m    439\u001b[0m \u001b[38;5;124;03m...\u001b[39;00m\n\u001b[1;32m    440\u001b[0m \u001b[38;5;124;03m\"\"\"\u001b[39;00m\n\u001b[1;32m    441\u001b[0m product \u001b[38;5;241m=\u001b[39m product\u001b[38;5;241m.\u001b[39mcapitalize()\n\u001b[0;32m--> 443\u001b[0m response \u001b[38;5;241m=\u001b[39m \u001b[38;5;28;43mself\u001b[39;49m\u001b[38;5;241;43m.\u001b[39;49m\u001b[43m_search\u001b[49m\u001b[43m(\u001b[49m\u001b[43mquery\u001b[49m\u001b[43m,\u001b[49m\u001b[43m \u001b[49m\u001b[43mproduct\u001b[49m\u001b[43m,\u001b[49m\u001b[43m \u001b[49m\u001b[43mcount\u001b[49m\u001b[43m,\u001b[49m\u001b[43m \u001b[49m\u001b[43mcursor\u001b[49m\u001b[43m)\u001b[49m\n\u001b[1;32m    444\u001b[0m instructions \u001b[38;5;241m=\u001b[39m find_dict(response, \u001b[38;5;124m'\u001b[39m\u001b[38;5;124minstructions\u001b[39m\u001b[38;5;124m'\u001b[39m)[\u001b[38;5;241m0\u001b[39m]\n\u001b[1;32m    446\u001b[0m \u001b[38;5;28;01mif\u001b[39;00m cursor \u001b[38;5;129;01mis\u001b[39;00m \u001b[38;5;28;01mNone\u001b[39;00m \u001b[38;5;129;01mand\u001b[39;00m product \u001b[38;5;241m==\u001b[39m \u001b[38;5;124m'\u001b[39m\u001b[38;5;124mMedia\u001b[39m\u001b[38;5;124m'\u001b[39m:\n",
      "File \u001b[0;32m~/Desktop/Data-Collection/twitter-scraper/.venv/lib/python3.11/site-packages/twikit/client.py:387\u001b[0m, in \u001b[0;36mClient._search\u001b[0;34m(self, query, product, count, cursor)\u001b[0m\n\u001b[1;32m    382\u001b[0m     variables[\u001b[38;5;124m'\u001b[39m\u001b[38;5;124mcursor\u001b[39m\u001b[38;5;124m'\u001b[39m] \u001b[38;5;241m=\u001b[39m cursor\n\u001b[1;32m    383\u001b[0m params \u001b[38;5;241m=\u001b[39m {\n\u001b[1;32m    384\u001b[0m     \u001b[38;5;124m'\u001b[39m\u001b[38;5;124mvariables\u001b[39m\u001b[38;5;124m'\u001b[39m: json\u001b[38;5;241m.\u001b[39mdumps(variables),\n\u001b[1;32m    385\u001b[0m     \u001b[38;5;124m'\u001b[39m\u001b[38;5;124mfeatures\u001b[39m\u001b[38;5;124m'\u001b[39m: json\u001b[38;5;241m.\u001b[39mdumps(FEATURES)\n\u001b[1;32m    386\u001b[0m }\n\u001b[0;32m--> 387\u001b[0m response \u001b[38;5;241m=\u001b[39m \u001b[38;5;28;43mself\u001b[39;49m\u001b[38;5;241;43m.\u001b[39;49m\u001b[43mhttp\u001b[49m\u001b[38;5;241;43m.\u001b[39;49m\u001b[43mget\u001b[49m\u001b[43m(\u001b[49m\n\u001b[1;32m    388\u001b[0m \u001b[43m    \u001b[49m\u001b[43mEndpoint\u001b[49m\u001b[38;5;241;43m.\u001b[39;49m\u001b[43mSEARCH_TIMELINE\u001b[49m\u001b[43m,\u001b[49m\n\u001b[1;32m    389\u001b[0m \u001b[43m    \u001b[49m\u001b[43mparams\u001b[49m\u001b[38;5;241;43m=\u001b[39;49m\u001b[43mparams\u001b[49m\u001b[43m,\u001b[49m\n\u001b[1;32m    390\u001b[0m \u001b[43m    \u001b[49m\u001b[43mheaders\u001b[49m\u001b[38;5;241;43m=\u001b[39;49m\u001b[38;5;28;43mself\u001b[39;49m\u001b[38;5;241;43m.\u001b[39;49m\u001b[43m_base_headers\u001b[49m\n\u001b[1;32m    391\u001b[0m \u001b[43m\u001b[49m\u001b[43m)\u001b[49m\u001b[38;5;241m.\u001b[39mjson()\n\u001b[1;32m    393\u001b[0m \u001b[38;5;28;01mreturn\u001b[39;00m response\n",
      "File \u001b[0;32m~/Desktop/Data-Collection/twitter-scraper/.venv/lib/python3.11/site-packages/twikit/http.py:51\u001b[0m, in \u001b[0;36mHTTPClient.get\u001b[0;34m(self, url, **kwargs)\u001b[0m\n\u001b[1;32m     50\u001b[0m \u001b[38;5;28;01mdef\u001b[39;00m \u001b[38;5;21mget\u001b[39m(\u001b[38;5;28mself\u001b[39m, url, \u001b[38;5;241m*\u001b[39m\u001b[38;5;241m*\u001b[39mkwargs) \u001b[38;5;241m-\u001b[39m\u001b[38;5;241m>\u001b[39m httpx\u001b[38;5;241m.\u001b[39mResponse:\n\u001b[0;32m---> 51\u001b[0m     \u001b[38;5;28;01mreturn\u001b[39;00m \u001b[38;5;28;43mself\u001b[39;49m\u001b[38;5;241;43m.\u001b[39;49m\u001b[43mrequest\u001b[49m\u001b[43m(\u001b[49m\u001b[38;5;124;43m'\u001b[39;49m\u001b[38;5;124;43mGET\u001b[39;49m\u001b[38;5;124;43m'\u001b[39;49m\u001b[43m,\u001b[49m\u001b[43m \u001b[49m\u001b[43murl\u001b[49m\u001b[43m,\u001b[49m\u001b[43m \u001b[49m\u001b[38;5;241;43m*\u001b[39;49m\u001b[38;5;241;43m*\u001b[39;49m\u001b[43mkwargs\u001b[49m\u001b[43m)\u001b[49m\n",
      "File \u001b[0;32m~/Desktop/Data-Collection/twitter-scraper/.venv/lib/python3.11/site-packages/twikit/http.py:42\u001b[0m, in \u001b[0;36mHTTPClient.request\u001b[0;34m(self, method, url, **kwargs)\u001b[0m\n\u001b[1;32m     40\u001b[0m     \u001b[38;5;28;01mraise\u001b[39;00m RequestTimeout(message)\n\u001b[1;32m     41\u001b[0m \u001b[38;5;28;01melif\u001b[39;00m status_code \u001b[38;5;241m==\u001b[39m \u001b[38;5;241m429\u001b[39m:\n\u001b[0;32m---> 42\u001b[0m     \u001b[38;5;28;01mraise\u001b[39;00m TooManyRequests(message)\n\u001b[1;32m     43\u001b[0m \u001b[38;5;28;01melif\u001b[39;00m \u001b[38;5;241m500\u001b[39m \u001b[38;5;241m<\u001b[39m\u001b[38;5;241m=\u001b[39m status_code \u001b[38;5;241m<\u001b[39m \u001b[38;5;241m600\u001b[39m:\n\u001b[1;32m     44\u001b[0m     \u001b[38;5;28;01mraise\u001b[39;00m ServerError(message)\n",
      "\u001b[0;31mTooManyRequests\u001b[0m: status: 429, message: \"Rate limit exceeded\n\""
     ]
    }
   ],
   "source": [
    "tweets = client.search_tweet('#KukiMilitant', 'Latest')\n",
    "for tweet_id in tweets:\n",
    "    print(tweet_id)\n",
    "while True:\n",
    "    print(\"More tweets\")\n",
    "    more_tweets = tweets.next()"
   ]
  },
  {
   "cell_type": "code",
   "execution_count": 7,
   "metadata": {},
   "outputs": [
    {
     "name": "stdout",
     "output_type": "stream",
     "text": [
      "Rate limit exceeded. Waiting for 15 minutes...\n"
     ]
    },
    {
     "ename": "KeyboardInterrupt",
     "evalue": "",
     "output_type": "error",
     "traceback": [
      "\u001b[0;31m---------------------------------------------------------------------------\u001b[0m",
      "\u001b[0;31mTooManyRequests\u001b[0m                           Traceback (most recent call last)",
      "Cell \u001b[0;32mIn[7], line 12\u001b[0m\n\u001b[1;32m     11\u001b[0m \u001b[38;5;28;01mfor\u001b[39;00m tweet \u001b[38;5;129;01min\u001b[39;00m tweets:\n\u001b[0;32m---> 12\u001b[0m     tweet \u001b[38;5;241m=\u001b[39m \u001b[43mclient\u001b[49m\u001b[38;5;241;43m.\u001b[39;49m\u001b[43mget_tweet_by_id\u001b[49m\u001b[43m(\u001b[49m\u001b[43mtweet\u001b[49m\u001b[38;5;241;43m.\u001b[39;49m\u001b[43mid\u001b[49m\u001b[43m)\u001b[49m\n\u001b[1;32m     13\u001b[0m     csv_writer\u001b[38;5;241m.\u001b[39mwriterow([hashtag, tweet\u001b[38;5;241m.\u001b[39mtext, tweet\u001b[38;5;241m.\u001b[39mfavorite_count])\n",
      "File \u001b[0;32m~/Desktop/Data-Collection/twitter-scraper/.venv/lib/python3.11/site-packages/twikit/client.py:1050\u001b[0m, in \u001b[0;36mClient.get_tweet_by_id\u001b[0;34m(self, tweet_id, cursor)\u001b[0m\n\u001b[1;32m   1030\u001b[0m \u001b[38;5;250m\u001b[39m\u001b[38;5;124;03m\"\"\"\u001b[39;00m\n\u001b[1;32m   1031\u001b[0m \u001b[38;5;124;03mFetches a tweet by tweet ID.\u001b[39;00m\n\u001b[1;32m   1032\u001b[0m \n\u001b[0;32m   (...)\u001b[0m\n\u001b[1;32m   1048\u001b[0m \u001b[38;5;124;03m<Tweet id=\"...\">\u001b[39;00m\n\u001b[1;32m   1049\u001b[0m \u001b[38;5;124;03m\"\"\"\u001b[39;00m\n\u001b[0;32m-> 1050\u001b[0m response \u001b[38;5;241m=\u001b[39m \u001b[38;5;28;43mself\u001b[39;49m\u001b[38;5;241;43m.\u001b[39;49m\u001b[43m_get_tweet_detail\u001b[49m\u001b[43m(\u001b[49m\u001b[43mtweet_id\u001b[49m\u001b[43m,\u001b[49m\u001b[43m \u001b[49m\u001b[43mcursor\u001b[49m\u001b[43m)\u001b[49m\n\u001b[1;32m   1052\u001b[0m entries \u001b[38;5;241m=\u001b[39m find_dict(response, \u001b[38;5;124m'\u001b[39m\u001b[38;5;124mentries\u001b[39m\u001b[38;5;124m'\u001b[39m)[\u001b[38;5;241m0\u001b[39m]\n",
      "File \u001b[0;32m~/Desktop/Data-Collection/twitter-scraper/.venv/lib/python3.11/site-packages/twikit/client.py:992\u001b[0m, in \u001b[0;36mClient._get_tweet_detail\u001b[0;34m(self, tweet_id, cursor)\u001b[0m\n\u001b[1;32m    987\u001b[0m params \u001b[38;5;241m=\u001b[39m {\n\u001b[1;32m    988\u001b[0m     \u001b[38;5;124m'\u001b[39m\u001b[38;5;124mvariables\u001b[39m\u001b[38;5;124m'\u001b[39m: json\u001b[38;5;241m.\u001b[39mdumps(variables),\n\u001b[1;32m    989\u001b[0m     \u001b[38;5;124m'\u001b[39m\u001b[38;5;124mfeatures\u001b[39m\u001b[38;5;124m'\u001b[39m: json\u001b[38;5;241m.\u001b[39mdumps(FEATURES),\n\u001b[1;32m    990\u001b[0m     \u001b[38;5;124m'\u001b[39m\u001b[38;5;124mfieldToggles\u001b[39m\u001b[38;5;124m'\u001b[39m: json\u001b[38;5;241m.\u001b[39mdumps({\u001b[38;5;124m'\u001b[39m\u001b[38;5;124mwithAuxiliaryUserLabels\u001b[39m\u001b[38;5;124m'\u001b[39m: \u001b[38;5;28;01mFalse\u001b[39;00m})\n\u001b[1;32m    991\u001b[0m }\n\u001b[0;32m--> 992\u001b[0m response \u001b[38;5;241m=\u001b[39m \u001b[38;5;28;43mself\u001b[39;49m\u001b[38;5;241;43m.\u001b[39;49m\u001b[43mhttp\u001b[49m\u001b[38;5;241;43m.\u001b[39;49m\u001b[43mget\u001b[49m\u001b[43m(\u001b[49m\n\u001b[1;32m    993\u001b[0m \u001b[43m    \u001b[49m\u001b[43mEndpoint\u001b[49m\u001b[38;5;241;43m.\u001b[39;49m\u001b[43mTWEET_DETAIL\u001b[49m\u001b[43m,\u001b[49m\n\u001b[1;32m    994\u001b[0m \u001b[43m    \u001b[49m\u001b[43mparams\u001b[49m\u001b[38;5;241;43m=\u001b[39;49m\u001b[43mparams\u001b[49m\u001b[43m,\u001b[49m\n\u001b[1;32m    995\u001b[0m \u001b[43m    \u001b[49m\u001b[43mheaders\u001b[49m\u001b[38;5;241;43m=\u001b[39;49m\u001b[38;5;28;43mself\u001b[39;49m\u001b[38;5;241;43m.\u001b[39;49m\u001b[43m_base_headers\u001b[49m\n\u001b[1;32m    996\u001b[0m \u001b[43m\u001b[49m\u001b[43m)\u001b[49m\u001b[38;5;241m.\u001b[39mjson()\n\u001b[1;32m    997\u001b[0m \u001b[38;5;28;01mreturn\u001b[39;00m response\n",
      "File \u001b[0;32m~/Desktop/Data-Collection/twitter-scraper/.venv/lib/python3.11/site-packages/twikit/http.py:51\u001b[0m, in \u001b[0;36mHTTPClient.get\u001b[0;34m(self, url, **kwargs)\u001b[0m\n\u001b[1;32m     50\u001b[0m \u001b[38;5;28;01mdef\u001b[39;00m \u001b[38;5;21mget\u001b[39m(\u001b[38;5;28mself\u001b[39m, url, \u001b[38;5;241m*\u001b[39m\u001b[38;5;241m*\u001b[39mkwargs) \u001b[38;5;241m-\u001b[39m\u001b[38;5;241m>\u001b[39m httpx\u001b[38;5;241m.\u001b[39mResponse:\n\u001b[0;32m---> 51\u001b[0m     \u001b[38;5;28;01mreturn\u001b[39;00m \u001b[38;5;28;43mself\u001b[39;49m\u001b[38;5;241;43m.\u001b[39;49m\u001b[43mrequest\u001b[49m\u001b[43m(\u001b[49m\u001b[38;5;124;43m'\u001b[39;49m\u001b[38;5;124;43mGET\u001b[39;49m\u001b[38;5;124;43m'\u001b[39;49m\u001b[43m,\u001b[49m\u001b[43m \u001b[49m\u001b[43murl\u001b[49m\u001b[43m,\u001b[49m\u001b[43m \u001b[49m\u001b[38;5;241;43m*\u001b[39;49m\u001b[38;5;241;43m*\u001b[39;49m\u001b[43mkwargs\u001b[49m\u001b[43m)\u001b[49m\n",
      "File \u001b[0;32m~/Desktop/Data-Collection/twitter-scraper/.venv/lib/python3.11/site-packages/twikit/http.py:42\u001b[0m, in \u001b[0;36mHTTPClient.request\u001b[0;34m(self, method, url, **kwargs)\u001b[0m\n\u001b[1;32m     41\u001b[0m \u001b[38;5;28;01melif\u001b[39;00m status_code \u001b[38;5;241m==\u001b[39m \u001b[38;5;241m429\u001b[39m:\n\u001b[0;32m---> 42\u001b[0m     \u001b[38;5;28;01mraise\u001b[39;00m TooManyRequests(message)\n\u001b[1;32m     43\u001b[0m \u001b[38;5;28;01melif\u001b[39;00m \u001b[38;5;241m500\u001b[39m \u001b[38;5;241m<\u001b[39m\u001b[38;5;241m=\u001b[39m status_code \u001b[38;5;241m<\u001b[39m \u001b[38;5;241m600\u001b[39m:\n",
      "\u001b[0;31mTooManyRequests\u001b[0m: status: 429, message: \"Rate limit exceeded\n\"",
      "\nDuring handling of the above exception, another exception occurred:\n",
      "\u001b[0;31mKeyboardInterrupt\u001b[0m                         Traceback (most recent call last)",
      "Cell \u001b[0;32mIn[7], line 24\u001b[0m\n\u001b[1;32m     22\u001b[0m \u001b[38;5;28;01mexcept\u001b[39;00m twikit\u001b[38;5;241m.\u001b[39merrors\u001b[38;5;241m.\u001b[39mTooManyRequests:\n\u001b[1;32m     23\u001b[0m     \u001b[38;5;28mprint\u001b[39m(\u001b[38;5;124m\"\u001b[39m\u001b[38;5;124mRate limit exceeded. Waiting for 15 minutes...\u001b[39m\u001b[38;5;124m\"\u001b[39m)\n\u001b[0;32m---> 24\u001b[0m     \u001b[43mtime\u001b[49m\u001b[38;5;241;43m.\u001b[39;49m\u001b[43msleep\u001b[49m\u001b[43m(\u001b[49m\u001b[38;5;241;43m15\u001b[39;49m\u001b[43m \u001b[49m\u001b[38;5;241;43m*\u001b[39;49m\u001b[43m \u001b[49m\u001b[38;5;241;43m60\u001b[39;49m\u001b[43m)\u001b[49m\n\u001b[1;32m     25\u001b[0m \u001b[38;5;28;01mexcept\u001b[39;00m \u001b[38;5;167;01mException\u001b[39;00m \u001b[38;5;28;01mas\u001b[39;00m e:\n\u001b[1;32m     26\u001b[0m     \u001b[38;5;28mprint\u001b[39m(\u001b[38;5;124m\"\u001b[39m\u001b[38;5;124mAn error occurred:\u001b[39m\u001b[38;5;124m\"\u001b[39m, e)\n",
      "\u001b[0;31mKeyboardInterrupt\u001b[0m: "
     ]
    }
   ],
   "source": [
    "NEXTPAGE = 1\n",
    "\n",
    "with open('manipur_violence.csv', 'w', newline='') as output_csv_file:\n",
    "    csv_writer = csv.writer(output_csv_file)\n",
    "    csv_writer.writerow(['hashtag', 'text', 'favorite_count'])    \n",
    "    \n",
    "    for hashtag in hashtags:\n",
    "        while True:\n",
    "            try:\n",
    "                tweets = client.search_tweet(hashtag, 'Latest')\n",
    "                for tweet in tweets:\n",
    "                    tweet = client.get_tweet_by_id(tweet.id)\n",
    "                    csv_writer.writerow([hashtag, tweet.text, tweet.favorite_count])\n",
    "                    \n",
    "                for i in range(NEXTPAGE):\n",
    "                    more_tweets = client.search_tweet(hashtag, 'Latest')\n",
    "                    for tweet in more_tweets:\n",
    "                        tweet = client.get_tweet_by_id(tweet.id)\n",
    "                        csv_writer.writerow([hashtag, tweet.text, tweet.favorite_count])\n",
    "                \n",
    "                break\n",
    "            except twikit.errors.TooManyRequests:\n",
    "                print(\"Rate limit exceeded. Waiting for 15 minutes...\")\n",
    "                time.sleep(903)\n",
    "            except Exception as e:\n",
    "                print(\"An error occurred:\", e)\n",
    "                break"
   ]
  }
 ],
 "metadata": {
  "kernelspec": {
   "display_name": "Python 3",
   "language": "python",
   "name": "python3"
  },
  "language_info": {
   "codemirror_mode": {
    "name": "ipython",
    "version": 3
   },
   "file_extension": ".py",
   "mimetype": "text/x-python",
   "name": "python",
   "nbconvert_exporter": "python",
   "pygments_lexer": "ipython3",
   "version": "3.11.6"
  }
 },
 "nbformat": 4,
 "nbformat_minor": 2
}
